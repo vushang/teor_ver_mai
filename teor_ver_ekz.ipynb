{
 "cells": [
  {
   "cell_type": "markdown",
   "id": "4052965e",
   "metadata": {},
   "source": [
    "# Теория"
   ]
  },
  {
   "cell_type": "markdown",
   "id": "528001dd",
   "metadata": {},
   "source": [
    "Линейная регрессия - регрессионная модель зависимости одной переменной от другой или других переменных с линейной функцией зависимости.\n",
    "\n",
    "В общем виде модель выглядит как y = f<x, w> + e,         где w - веса модели, а e - случайная ошибка\n",
    "\n",
    "f<x, w> = w0 + x1w1 + x2w2...     \n",
    "\n",
    "w0 - свободный коэффициент\n",
    "\n",
    "Оценка параметров модели происходит с помощью метода наименьших квадратов - обощения метода максимального правдоподобия на задачу регрессии. Целью задачи является минимизация квадратов отклонений\n",
    "\n",
    "Нахождение минимума этой функции и оценку весов можно делать по разному, например аналитически. Но с точки зрения расчетов это неэффективно, так как требует вычисления обратной матрицы. Можно оценивать параметры с помощью градиентого спуска и его разновидностей.\n",
    "\n",
    "При построении линейной регрессии важно не допускать корреляции между признаками, так как это приводит к проблеме мультиколлинеарности и почти-вырожденности матрицы ХтХ. Для борьбы с этим используют отбор признаков и регуляризацию - накладывания ограничения на веса (l1 и l2 нормы)\n",
    "\n",
    "Линейные модели в настоящий момент используются не так часто, так как они не слишком точные. Но такие модели являются полностью интерпритируемыми, что является большим плюсом, например в банках. Так же эти модели являются несмещенными.\n",
    "\n",
    "Парной регрессией называется модель зависимости только от одного фактора y = x1w1 + w0\n",
    "\n",
    "В такой модели можно вычислять статистическую значимость для признаков, а так же их доверительные интервалы.\n",
    "Так же, в таких моделях можно оценивать стат значимость самой модели\n",
    " "
   ]
  },
  {
   "cell_type": "markdown",
   "id": "464ea44d",
   "metadata": {},
   "source": [
    "# Комбинаторика"
   ]
  },
  {
   "cell_type": "code",
   "execution_count": 1,
   "id": "483055e9",
   "metadata": {},
   "outputs": [],
   "source": [
    "first_name = 'александр'\n",
    "last_name = 'шальнов'\n",
    "full_name = 'александрашальнов'"
   ]
  },
  {
   "cell_type": "code",
   "execution_count": 7,
   "id": "293c32b6",
   "metadata": {},
   "outputs": [],
   "source": [
    "from collections import Counter\n",
    "from math import factorial"
   ]
  },
  {
   "cell_type": "markdown",
   "id": "e92cb303",
   "metadata": {},
   "source": [
    "По формуле числа перестановок с повторениями вычислю"
   ]
  },
  {
   "cell_type": "code",
   "execution_count": 4,
   "id": "35df83f3",
   "metadata": {},
   "outputs": [
    {
     "data": {
      "text/plain": [
       "Counter({'а': 2, 'л': 1, 'е': 1, 'к': 1, 'с': 1, 'н': 1, 'д': 1, 'р': 1})"
      ]
     },
     "execution_count": 4,
     "metadata": {},
     "output_type": "execute_result"
    }
   ],
   "source": [
    "Counter(first_name)"
   ]
  },
  {
   "cell_type": "code",
   "execution_count": 11,
   "id": "6b892db9",
   "metadata": {},
   "outputs": [
    {
     "name": "stdout",
     "output_type": "stream",
     "text": [
      "181440.0\n"
     ]
    }
   ],
   "source": [
    "p1 = factorial(len(first_name)) / 2\n",
    "print(p1)"
   ]
  },
  {
   "cell_type": "markdown",
   "id": "1c88eda3",
   "metadata": {},
   "source": [
    "Для имени ответ = 181440"
   ]
  },
  {
   "cell_type": "code",
   "execution_count": 5,
   "id": "5d868e4a",
   "metadata": {},
   "outputs": [
    {
     "data": {
      "text/plain": [
       "Counter({'ш': 1, 'а': 1, 'л': 1, 'ь': 1, 'н': 1, 'о': 1, 'в': 1})"
      ]
     },
     "execution_count": 5,
     "metadata": {},
     "output_type": "execute_result"
    }
   ],
   "source": [
    "Counter(last_name)"
   ]
  },
  {
   "cell_type": "code",
   "execution_count": 12,
   "id": "4cbb1528",
   "metadata": {},
   "outputs": [
    {
     "name": "stdout",
     "output_type": "stream",
     "text": [
      "5040\n"
     ]
    }
   ],
   "source": [
    "p2 = factorial(len(last_name))\n",
    "print(p2)"
   ]
  },
  {
   "cell_type": "markdown",
   "id": "3cebb383",
   "metadata": {},
   "source": [
    "Для фамилии ответ = 5040"
   ]
  },
  {
   "cell_type": "code",
   "execution_count": 6,
   "id": "85ccc930",
   "metadata": {},
   "outputs": [
    {
     "data": {
      "text/plain": [
       "Counter({'а': 4,\n",
       "         'л': 2,\n",
       "         'н': 2,\n",
       "         'е': 1,\n",
       "         'к': 1,\n",
       "         'с': 1,\n",
       "         'д': 1,\n",
       "         'р': 1,\n",
       "         'ш': 1,\n",
       "         'ь': 1,\n",
       "         'о': 1,\n",
       "         'в': 1})"
      ]
     },
     "execution_count": 6,
     "metadata": {},
     "output_type": "execute_result"
    }
   ],
   "source": [
    "Counter(full_name)"
   ]
  },
  {
   "cell_type": "code",
   "execution_count": 13,
   "id": "9a311d0d",
   "metadata": {},
   "outputs": [
    {
     "name": "stdout",
     "output_type": "stream",
     "text": [
      "3705077376000.0\n"
     ]
    }
   ],
   "source": [
    "p3 = factorial(len(full_name)) / (factorial(4) * factorial(2) * factorial(2))\n",
    "print(p3)"
   ]
  },
  {
   "cell_type": "markdown",
   "id": "b292d888",
   "metadata": {},
   "source": [
    "Для полного имени ответ = 3705077376000"
   ]
  },
  {
   "cell_type": "markdown",
   "id": "8fcc85a3",
   "metadata": {},
   "source": [
    "# Стат обработка"
   ]
  },
  {
   "cell_type": "code",
   "execution_count": 39,
   "id": "4c2b49dd",
   "metadata": {},
   "outputs": [],
   "source": [
    "import numpy as np\n",
    "from scipy.stats import mode\n",
    "from scipy.ndimage import median\n",
    "from scipy.stats import t"
   ]
  },
  {
   "cell_type": "code",
   "execution_count": 18,
   "id": "2959ee13",
   "metadata": {},
   "outputs": [],
   "source": [
    "df = np.random.uniform(-38, 39, 100)"
   ]
  },
  {
   "cell_type": "markdown",
   "id": "7a8cf9d0",
   "metadata": {},
   "source": [
    "Среднее"
   ]
  },
  {
   "cell_type": "code",
   "execution_count": 21,
   "id": "64d15beb",
   "metadata": {},
   "outputs": [
    {
     "name": "stdout",
     "output_type": "stream",
     "text": [
      "1.4637825482952584\n"
     ]
    }
   ],
   "source": [
    "print(df.mean())"
   ]
  },
  {
   "cell_type": "markdown",
   "id": "5e93eee7",
   "metadata": {},
   "source": [
    "Дисперсия"
   ]
  },
  {
   "cell_type": "code",
   "execution_count": 23,
   "id": "e1291b88",
   "metadata": {},
   "outputs": [
    {
     "data": {
      "text/plain": [
       "467.1950417419552"
      ]
     },
     "execution_count": 23,
     "metadata": {},
     "output_type": "execute_result"
    }
   ],
   "source": [
    " df.var()"
   ]
  },
  {
   "cell_type": "markdown",
   "id": "a1e473b7",
   "metadata": {},
   "source": [
    "Стандартное отклонение"
   ]
  },
  {
   "cell_type": "code",
   "execution_count": 24,
   "id": "3b949d43",
   "metadata": {},
   "outputs": [
    {
     "data": {
      "text/plain": [
       "21.614695041613594"
      ]
     },
     "execution_count": 24,
     "metadata": {},
     "output_type": "execute_result"
    }
   ],
   "source": [
    "df.std()"
   ]
  },
  {
   "cell_type": "markdown",
   "id": "dcdfffab",
   "metadata": {},
   "source": [
    "Мода (плохо подходит как описательная статистика для данного распределения)"
   ]
  },
  {
   "cell_type": "code",
   "execution_count": 36,
   "id": "df284da7",
   "metadata": {},
   "outputs": [
    {
     "data": {
      "text/plain": [
       "-36.2495022510539"
      ]
     },
     "execution_count": 36,
     "metadata": {},
     "output_type": "execute_result"
    }
   ],
   "source": [
    "mode(df).mode"
   ]
  },
  {
   "cell_type": "markdown",
   "id": "2a2c96dd",
   "metadata": {},
   "source": [
    "Медиана"
   ]
  },
  {
   "cell_type": "code",
   "execution_count": 37,
   "id": "9be7833d",
   "metadata": {},
   "outputs": [
    {
     "data": {
      "text/plain": [
       "-1.4344228992201256"
      ]
     },
     "execution_count": 37,
     "metadata": {},
     "output_type": "execute_result"
    }
   ],
   "source": [
    "median(df)"
   ]
  },
  {
   "cell_type": "markdown",
   "id": "75c341b9",
   "metadata": {},
   "source": [
    "Максимум"
   ]
  },
  {
   "cell_type": "code",
   "execution_count": 28,
   "id": "1f9ab03c",
   "metadata": {},
   "outputs": [
    {
     "data": {
      "text/plain": [
       "38.983719654975"
      ]
     },
     "execution_count": 28,
     "metadata": {},
     "output_type": "execute_result"
    }
   ],
   "source": [
    "df.max()"
   ]
  },
  {
   "cell_type": "markdown",
   "id": "1fbab6a1",
   "metadata": {},
   "source": [
    "Минимум"
   ]
  },
  {
   "cell_type": "code",
   "execution_count": 29,
   "id": "a84753f7",
   "metadata": {},
   "outputs": [
    {
     "data": {
      "text/plain": [
       "-36.2495022510539"
      ]
     },
     "execution_count": 29,
     "metadata": {},
     "output_type": "execute_result"
    }
   ],
   "source": [
    "df.min()"
   ]
  },
  {
   "cell_type": "markdown",
   "id": "844b0e50",
   "metadata": {},
   "source": [
    "Доверительные интервалы"
   ]
  },
  {
   "cell_type": "code",
   "execution_count": 41,
   "id": "f64baddc",
   "metadata": {},
   "outputs": [],
   "source": [
    "from scipy import stats\n",
    "\n",
    "def calculate_confidence_interval(data, confidence=0.95):\n",
    "    mean = np.mean(data)\n",
    "    std_err = stats.sem(data)\n",
    "    ci = stats.t.interval(confidence, len(data)-1, loc=mean, scale=std_err)\n",
    "    return ci"
   ]
  },
  {
   "cell_type": "markdown",
   "id": "c8c2d512",
   "metadata": {},
   "source": [
    "Доверительный интервал 0.95"
   ]
  },
  {
   "cell_type": "code",
   "execution_count": 42,
   "id": "417dbfbd",
   "metadata": {},
   "outputs": [
    {
     "data": {
      "text/plain": [
       "(-2.846648187189956, 5.7742132837804725)"
      ]
     },
     "execution_count": 42,
     "metadata": {},
     "output_type": "execute_result"
    }
   ],
   "source": [
    "calculate_confidence_interval(df, confidence = 0.95)"
   ]
  },
  {
   "cell_type": "markdown",
   "id": "3f0de523",
   "metadata": {},
   "source": [
    "Доверительный интервал 0.99"
   ]
  },
  {
   "cell_type": "code",
   "execution_count": 44,
   "id": "4bfc849a",
   "metadata": {},
   "outputs": [
    {
     "data": {
      "text/plain": [
       "(-4.241711901009288, 7.1692769975998045)"
      ]
     },
     "execution_count": 44,
     "metadata": {},
     "output_type": "execute_result"
    }
   ],
   "source": [
    "calculate_confidence_interval(df, confidence = 0.99)"
   ]
  }
 ],
 "metadata": {
  "kernelspec": {
   "display_name": "Python 3 (ipykernel)",
   "language": "python",
   "name": "python3"
  },
  "language_info": {
   "codemirror_mode": {
    "name": "ipython",
    "version": 3
   },
   "file_extension": ".py",
   "mimetype": "text/x-python",
   "name": "python",
   "nbconvert_exporter": "python",
   "pygments_lexer": "ipython3",
   "version": "3.11.8"
  }
 },
 "nbformat": 4,
 "nbformat_minor": 5
}
