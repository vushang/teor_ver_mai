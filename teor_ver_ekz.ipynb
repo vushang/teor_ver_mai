{
 "cells": [
  {
   "cell_type": "markdown",
   "id": "5082ed15",
   "metadata": {},
   "source": [
    "# Теория"
   ]
  },
  {
   "cell_type": "markdown",
   "id": "13371fec",
   "metadata": {},
   "source": [
    "Линейная регрессия - регрессионная модель зависимости одной переменной от другой или других переменных с линейной функцией зависимости.\n",
    "\n",
    "В общем виде модель выглядит как y = f<x, w> + e,         где w - веса модели, а e - случайная ошибка\n",
    "\n",
    "f<x, w> = w0 + x1w1 + x2w2...     \n",
    "\n",
    "w0 - свободный коэффициент\n",
    "\n",
    "Оценка параметров модели происходит с помощью метода наименьших квадратов - обощения метода максимального правдоподобия на задачу регрессии. Целью задачи является минимизация квадратов отклонений\n",
    "\n",
    "Нахождение минимума этой функции и оценку весов можно делать по разному, например аналитически. Но с точки зрения расчетов это неэффективно, так как требует вычисления обратной матрицы. Можно оценивать параметры с помощью градиентого спуска и его разновидностей.\n",
    "\n",
    "При построении линейной регрессии важно не допускать корреляции между признаками, так как это приводит к проблеме мультиколлинеарности и почти-вырожденности матрицы ХтХ. Для борьбы с этим используют отбор признаков и регуляризацию - накладывания ограничения на веса (l1 и l2 нормы)\n",
    "\n",
    "Линейные модели в настоящий момент используются не так часто, так как они не слишком точные. Но такие модели являются полностью интерпритируемыми, что является большим плюсом, например в банках. Так же эти модели являются несмещенными.\n",
    "\n",
    "Парной регрессией называется модель зависимости только от одного фактора y = x1w1 + w0\n",
    "\n",
    "В такой модели можно вычислять статистическую значимость для признаков, а так же их доверительные интервалы.\n",
    "Так же, в таких моделях можно оценивать стат значимость самой модели\n",
    " "
   ]
  },
  {
   "cell_type": "markdown",
   "id": "21783024",
   "metadata": {},
   "source": [
    "# Комбинаторика"
   ]
  },
  {
   "cell_type": "code",
   "execution_count": 45,
   "id": "a06f862e",
   "metadata": {},
   "outputs": [],
   "source": [
    "first_name = 'александр'\n",
    "last_name = 'шальнов'\n",
    "full_name = 'александршальнов'"
   ]
  },
  {
   "cell_type": "code",
   "execution_count": 7,
   "id": "e9b35072",
   "metadata": {},
   "outputs": [],
   "source": [
    "from collections import Counter\n",
    "from math import factorial"
   ]
  },
  {
   "cell_type": "markdown",
   "id": "6c67b1ff",
   "metadata": {},
   "source": [
    "По формуле числа перестановок с повторениями вычислю"
   ]
  },
  {
   "cell_type": "code",
   "execution_count": 4,
   "id": "a33ffbd2",
   "metadata": {},
   "outputs": [
    {
     "data": {
      "text/plain": [
       "Counter({'а': 2, 'л': 1, 'е': 1, 'к': 1, 'с': 1, 'н': 1, 'д': 1, 'р': 1})"
      ]
     },
     "execution_count": 4,
     "metadata": {},
     "output_type": "execute_result"
    }
   ],
   "source": [
    "Counter(first_name)"
   ]
  },
  {
   "cell_type": "code",
   "execution_count": 11,
   "id": "18dc2ee6",
   "metadata": {},
   "outputs": [
    {
     "name": "stdout",
     "output_type": "stream",
     "text": [
      "181440.0\n"
     ]
    }
   ],
   "source": [
    "p1 = factorial(len(first_name)) / 2\n",
    "print(p1)"
   ]
  },
  {
   "cell_type": "markdown",
   "id": "2e2c5f67",
   "metadata": {},
   "source": [
    "Для имени ответ = 181440"
   ]
  },
  {
   "cell_type": "code",
   "execution_count": 5,
   "id": "930c4b7a",
   "metadata": {},
   "outputs": [
    {
     "data": {
      "text/plain": [
       "Counter({'ш': 1, 'а': 1, 'л': 1, 'ь': 1, 'н': 1, 'о': 1, 'в': 1})"
      ]
     },
     "execution_count": 5,
     "metadata": {},
     "output_type": "execute_result"
    }
   ],
   "source": [
    "Counter(last_name)"
   ]
  },
  {
   "cell_type": "code",
   "execution_count": 12,
   "id": "ac389a16",
   "metadata": {},
   "outputs": [
    {
     "name": "stdout",
     "output_type": "stream",
     "text": [
      "5040\n"
     ]
    }
   ],
   "source": [
    "p2 = factorial(len(last_name))\n",
    "print(p2)"
   ]
  },
  {
   "cell_type": "markdown",
   "id": "0ae339f9",
   "metadata": {},
   "source": [
    "Для фамилии ответ = 5040"
   ]
  },
  {
   "cell_type": "code",
   "execution_count": 46,
   "id": "00c55f96",
   "metadata": {},
   "outputs": [
    {
     "data": {
      "text/plain": [
       "Counter({'а': 3,\n",
       "         'л': 2,\n",
       "         'н': 2,\n",
       "         'е': 1,\n",
       "         'к': 1,\n",
       "         'с': 1,\n",
       "         'д': 1,\n",
       "         'р': 1,\n",
       "         'ш': 1,\n",
       "         'ь': 1,\n",
       "         'о': 1,\n",
       "         'в': 1})"
      ]
     },
     "execution_count": 46,
     "metadata": {},
     "output_type": "execute_result"
    }
   ],
   "source": [
    "Counter(full_name)"
   ]
  },
  {
   "cell_type": "code",
   "execution_count": 47,
   "id": "f74e052e",
   "metadata": {},
   "outputs": [
    {
     "name": "stdout",
     "output_type": "stream",
     "text": [
      "217945728000.0\n"
     ]
    }
   ],
   "source": [
    "p3 = factorial(len(full_name)) / (factorial(4) * factorial(2) * factorial(2))\n",
    "print(p3)"
   ]
  },
  {
   "cell_type": "markdown",
   "id": "86f018fe",
   "metadata": {},
   "source": [
    "Для полного имени ответ = 217945728000"
   ]
  },
  {
   "cell_type": "markdown",
   "id": "8d40ce2d",
   "metadata": {},
   "source": [
    "# Стат обработка"
   ]
  },
  {
   "cell_type": "code",
   "execution_count": 39,
   "id": "8e648f2d",
   "metadata": {},
   "outputs": [],
   "source": [
    "import numpy as np\n",
    "from scipy.stats import mode\n",
    "from scipy.ndimage import median\n",
    "from scipy.stats import t"
   ]
  },
  {
   "cell_type": "code",
   "execution_count": 18,
   "id": "369ae624",
   "metadata": {},
   "outputs": [],
   "source": [
    "df = np.random.uniform(-38, 39, 100)"
   ]
  },
  {
   "cell_type": "markdown",
   "id": "63739bc2",
   "metadata": {},
   "source": [
    "Среднее"
   ]
  },
  {
   "cell_type": "code",
   "execution_count": 21,
   "id": "63145110",
   "metadata": {},
   "outputs": [
    {
     "name": "stdout",
     "output_type": "stream",
     "text": [
      "1.4637825482952584\n"
     ]
    }
   ],
   "source": [
    "print(df.mean())"
   ]
  },
  {
   "cell_type": "markdown",
   "id": "f2c9d389",
   "metadata": {},
   "source": [
    "Дисперсия"
   ]
  },
  {
   "cell_type": "code",
   "execution_count": 23,
   "id": "4b8d9017",
   "metadata": {},
   "outputs": [
    {
     "data": {
      "text/plain": [
       "467.1950417419552"
      ]
     },
     "execution_count": 23,
     "metadata": {},
     "output_type": "execute_result"
    }
   ],
   "source": [
    " df.var()"
   ]
  },
  {
   "cell_type": "markdown",
   "id": "2d579bb4",
   "metadata": {},
   "source": [
    "Стандартное отклонение"
   ]
  },
  {
   "cell_type": "code",
   "execution_count": 24,
   "id": "29cf078f",
   "metadata": {},
   "outputs": [
    {
     "data": {
      "text/plain": [
       "21.614695041613594"
      ]
     },
     "execution_count": 24,
     "metadata": {},
     "output_type": "execute_result"
    }
   ],
   "source": [
    "df.std()"
   ]
  },
  {
   "cell_type": "markdown",
   "id": "37f72703",
   "metadata": {},
   "source": [
    "Мода (плохо подходит как описательная статистика для данного распределения)"
   ]
  },
  {
   "cell_type": "code",
   "execution_count": 36,
   "id": "d368e47c",
   "metadata": {},
   "outputs": [
    {
     "data": {
      "text/plain": [
       "-36.2495022510539"
      ]
     },
     "execution_count": 36,
     "metadata": {},
     "output_type": "execute_result"
    }
   ],
   "source": [
    "mode(df).mode"
   ]
  },
  {
   "cell_type": "markdown",
   "id": "524ea3a8",
   "metadata": {},
   "source": [
    "Медиана"
   ]
  },
  {
   "cell_type": "code",
   "execution_count": 37,
   "id": "957db6a1",
   "metadata": {},
   "outputs": [
    {
     "data": {
      "text/plain": [
       "-1.4344228992201256"
      ]
     },
     "execution_count": 37,
     "metadata": {},
     "output_type": "execute_result"
    }
   ],
   "source": [
    "median(df)"
   ]
  },
  {
   "cell_type": "markdown",
   "id": "9c11abad",
   "metadata": {},
   "source": [
    "Максимум"
   ]
  },
  {
   "cell_type": "code",
   "execution_count": 28,
   "id": "e688aadc",
   "metadata": {},
   "outputs": [
    {
     "data": {
      "text/plain": [
       "38.983719654975"
      ]
     },
     "execution_count": 28,
     "metadata": {},
     "output_type": "execute_result"
    }
   ],
   "source": [
    "df.max()"
   ]
  },
  {
   "cell_type": "markdown",
   "id": "021bc429",
   "metadata": {},
   "source": [
    "Минимум"
   ]
  },
  {
   "cell_type": "code",
   "execution_count": 29,
   "id": "795ed20d",
   "metadata": {},
   "outputs": [
    {
     "data": {
      "text/plain": [
       "-36.2495022510539"
      ]
     },
     "execution_count": 29,
     "metadata": {},
     "output_type": "execute_result"
    }
   ],
   "source": [
    "df.min()"
   ]
  },
  {
   "cell_type": "markdown",
   "id": "c18d5487",
   "metadata": {},
   "source": [
    "Доверительные интервалы"
   ]
  },
  {
   "cell_type": "code",
   "execution_count": 41,
   "id": "5778f393",
   "metadata": {},
   "outputs": [],
   "source": [
    "from scipy import stats\n",
    "\n",
    "def calculate_confidence_interval(data, confidence=0.95):\n",
    "    mean = np.mean(data)\n",
    "    std_err = stats.sem(data)\n",
    "    ci = stats.t.interval(confidence, len(data)-1, loc=mean, scale=std_err)\n",
    "    return ci"
   ]
  },
  {
   "cell_type": "markdown",
   "id": "2370daf1",
   "metadata": {},
   "source": [
    "Доверительный интервал 0.95"
   ]
  },
  {
   "cell_type": "code",
   "execution_count": 42,
   "id": "00dac144",
   "metadata": {},
   "outputs": [
    {
     "data": {
      "text/plain": [
       "(-2.846648187189956, 5.7742132837804725)"
      ]
     },
     "execution_count": 42,
     "metadata": {},
     "output_type": "execute_result"
    }
   ],
   "source": [
    "calculate_confidence_interval(df, confidence = 0.95)"
   ]
  },
  {
   "cell_type": "markdown",
   "id": "0361657a",
   "metadata": {},
   "source": [
    "Доверительный интервал 0.99"
   ]
  },
  {
   "cell_type": "code",
   "execution_count": 44,
   "id": "eec13dba",
   "metadata": {},
   "outputs": [
    {
     "data": {
      "text/plain": [
       "(-4.241711901009288, 7.1692769975998045)"
      ]
     },
     "execution_count": 44,
     "metadata": {},
     "output_type": "execute_result"
    }
   ],
   "source": [
    "calculate_confidence_interval(df, confidence = 0.99)"
   ]
  }
 ],
 "metadata": {
  "kernelspec": {
   "display_name": "Python 3 (ipykernel)",
   "language": "python",
   "name": "python3"
  },
  "language_info": {
   "codemirror_mode": {
    "name": "ipython",
    "version": 3
   },
   "file_extension": ".py",
   "mimetype": "text/x-python",
   "name": "python",
   "nbconvert_exporter": "python",
   "pygments_lexer": "ipython3",
   "version": "3.11.8"
  }
 },
 "nbformat": 4,
 "nbformat_minor": 5
}
